{
 "cells": [
  {
   "cell_type": "code",
   "execution_count": 5,
   "metadata": {},
   "outputs": [],
   "source": [
    "import pandas as pd\n",
    "import numpy as np\n",
    "import seaborn as sns\n",
    "import matplotlib.pyplot as plt"
   ]
  },
  {
   "cell_type": "code",
   "execution_count": 6,
   "metadata": {},
   "outputs": [],
   "source": [
    "# 원본데이터셋에서 무작위 샘플링\n",
    "#data = pd.read_csv(r'C:\\Users\\302-t\\Downloads\\new-york-city-taxi-fare-prediction\\train.csv')\n",
    "#data_sampled = data.sample(frac=0.01)  # 원본의 1% 샘플링 => 약 50만 관측치\n",
    "\n",
    "#data_sampled.to_csv('sampled_train.csv', index=False)"
   ]
  },
  {
   "cell_type": "markdown",
   "metadata": {},
   "source": [
    "## 5만 관측치로 일단 수행"
   ]
  },
  {
   "cell_type": "code",
   "execution_count": 7,
   "metadata": {},
   "outputs": [
    {
     "name": "stdout",
     "output_type": "stream",
     "text": [
      "50000\n"
     ]
    },
    {
     "data": {
      "application/vnd.microsoft.datawrangler.viewer.v0+json": {
       "columns": [
        {
         "name": "index",
         "rawType": "int64",
         "type": "integer"
        },
        {
         "name": "key",
         "rawType": "object",
         "type": "string"
        },
        {
         "name": "fare_amount",
         "rawType": "float64",
         "type": "float"
        },
        {
         "name": "pickup_datetime",
         "rawType": "object",
         "type": "string"
        },
        {
         "name": "pickup_longitude",
         "rawType": "float64",
         "type": "float"
        },
        {
         "name": "pickup_latitude",
         "rawType": "float64",
         "type": "float"
        },
        {
         "name": "dropoff_longitude",
         "rawType": "float64",
         "type": "float"
        },
        {
         "name": "dropoff_latitude",
         "rawType": "float64",
         "type": "float"
        },
        {
         "name": "passenger_count",
         "rawType": "int64",
         "type": "integer"
        }
       ],
       "conversionMethod": "pd.DataFrame",
       "ref": "17d42dd8-384a-4518-bdec-cd2de8c0af67",
       "rows": [
        [
         "0",
         "2009-06-15 17:26:21.0000001",
         "4.5",
         "2009-06-15 17:26:21 UTC",
         "-73.844311",
         "40.721319",
         "-73.84161",
         "40.712278000000005",
         "1"
        ],
        [
         "1",
         "2010-01-05 16:52:16.0000002",
         "16.9",
         "2010-01-05 16:52:16 UTC",
         "-74.016048",
         "40.711303",
         "-73.979268",
         "40.782004",
         "1"
        ],
        [
         "2",
         "2011-08-18 00:35:00.00000049",
         "5.7",
         "2011-08-18 00:35:00 UTC",
         "-73.982738",
         "40.76127",
         "-73.991242",
         "40.750562",
         "2"
        ],
        [
         "3",
         "2012-04-21 04:30:42.0000001",
         "7.7",
         "2012-04-21 04:30:42 UTC",
         "-73.98713000000001",
         "40.733143",
         "-73.991567",
         "40.758092",
         "1"
        ],
        [
         "4",
         "2010-03-09 07:51:00.000000135",
         "5.3",
         "2010-03-09 07:51:00 UTC",
         "-73.96809499999999",
         "40.768008",
         "-73.956655",
         "40.783762",
         "1"
        ]
       ],
       "shape": {
        "columns": 8,
        "rows": 5
       }
      },
      "text/html": [
       "<div>\n",
       "<style scoped>\n",
       "    .dataframe tbody tr th:only-of-type {\n",
       "        vertical-align: middle;\n",
       "    }\n",
       "\n",
       "    .dataframe tbody tr th {\n",
       "        vertical-align: top;\n",
       "    }\n",
       "\n",
       "    .dataframe thead th {\n",
       "        text-align: right;\n",
       "    }\n",
       "</style>\n",
       "<table border=\"1\" class=\"dataframe\">\n",
       "  <thead>\n",
       "    <tr style=\"text-align: right;\">\n",
       "      <th></th>\n",
       "      <th>key</th>\n",
       "      <th>fare_amount</th>\n",
       "      <th>pickup_datetime</th>\n",
       "      <th>pickup_longitude</th>\n",
       "      <th>pickup_latitude</th>\n",
       "      <th>dropoff_longitude</th>\n",
       "      <th>dropoff_latitude</th>\n",
       "      <th>passenger_count</th>\n",
       "    </tr>\n",
       "  </thead>\n",
       "  <tbody>\n",
       "    <tr>\n",
       "      <th>0</th>\n",
       "      <td>2009-06-15 17:26:21.0000001</td>\n",
       "      <td>4.5</td>\n",
       "      <td>2009-06-15 17:26:21 UTC</td>\n",
       "      <td>-73.844311</td>\n",
       "      <td>40.721319</td>\n",
       "      <td>-73.841610</td>\n",
       "      <td>40.712278</td>\n",
       "      <td>1</td>\n",
       "    </tr>\n",
       "    <tr>\n",
       "      <th>1</th>\n",
       "      <td>2010-01-05 16:52:16.0000002</td>\n",
       "      <td>16.9</td>\n",
       "      <td>2010-01-05 16:52:16 UTC</td>\n",
       "      <td>-74.016048</td>\n",
       "      <td>40.711303</td>\n",
       "      <td>-73.979268</td>\n",
       "      <td>40.782004</td>\n",
       "      <td>1</td>\n",
       "    </tr>\n",
       "    <tr>\n",
       "      <th>2</th>\n",
       "      <td>2011-08-18 00:35:00.00000049</td>\n",
       "      <td>5.7</td>\n",
       "      <td>2011-08-18 00:35:00 UTC</td>\n",
       "      <td>-73.982738</td>\n",
       "      <td>40.761270</td>\n",
       "      <td>-73.991242</td>\n",
       "      <td>40.750562</td>\n",
       "      <td>2</td>\n",
       "    </tr>\n",
       "    <tr>\n",
       "      <th>3</th>\n",
       "      <td>2012-04-21 04:30:42.0000001</td>\n",
       "      <td>7.7</td>\n",
       "      <td>2012-04-21 04:30:42 UTC</td>\n",
       "      <td>-73.987130</td>\n",
       "      <td>40.733143</td>\n",
       "      <td>-73.991567</td>\n",
       "      <td>40.758092</td>\n",
       "      <td>1</td>\n",
       "    </tr>\n",
       "    <tr>\n",
       "      <th>4</th>\n",
       "      <td>2010-03-09 07:51:00.000000135</td>\n",
       "      <td>5.3</td>\n",
       "      <td>2010-03-09 07:51:00 UTC</td>\n",
       "      <td>-73.968095</td>\n",
       "      <td>40.768008</td>\n",
       "      <td>-73.956655</td>\n",
       "      <td>40.783762</td>\n",
       "      <td>1</td>\n",
       "    </tr>\n",
       "  </tbody>\n",
       "</table>\n",
       "</div>"
      ],
      "text/plain": [
       "                             key  fare_amount          pickup_datetime  \\\n",
       "0    2009-06-15 17:26:21.0000001          4.5  2009-06-15 17:26:21 UTC   \n",
       "1    2010-01-05 16:52:16.0000002         16.9  2010-01-05 16:52:16 UTC   \n",
       "2   2011-08-18 00:35:00.00000049          5.7  2011-08-18 00:35:00 UTC   \n",
       "3    2012-04-21 04:30:42.0000001          7.7  2012-04-21 04:30:42 UTC   \n",
       "4  2010-03-09 07:51:00.000000135          5.3  2010-03-09 07:51:00 UTC   \n",
       "\n",
       "   pickup_longitude  pickup_latitude  dropoff_longitude  dropoff_latitude  \\\n",
       "0        -73.844311        40.721319         -73.841610         40.712278   \n",
       "1        -74.016048        40.711303         -73.979268         40.782004   \n",
       "2        -73.982738        40.761270         -73.991242         40.750562   \n",
       "3        -73.987130        40.733143         -73.991567         40.758092   \n",
       "4        -73.968095        40.768008         -73.956655         40.783762   \n",
       "\n",
       "   passenger_count  \n",
       "0                1  \n",
       "1                1  \n",
       "2                2  \n",
       "3                1  \n",
       "4                1  "
      ]
     },
     "execution_count": 7,
     "metadata": {},
     "output_type": "execute_result"
    }
   ],
   "source": [
    "df = pd.read_csv('./train.csv')\n",
    "print(len(df))\n",
    "df.head()"
   ]
  },
  {
   "cell_type": "code",
   "execution_count": 8,
   "metadata": {},
   "outputs": [
    {
     "name": "stdout",
     "output_type": "stream",
     "text": [
      "<class 'pandas.core.frame.DataFrame'>\n",
      "RangeIndex: 50000 entries, 0 to 49999\n",
      "Data columns (total 8 columns):\n",
      " #   Column             Non-Null Count  Dtype  \n",
      "---  ------             --------------  -----  \n",
      " 0   key                50000 non-null  object \n",
      " 1   fare_amount        50000 non-null  float64\n",
      " 2   pickup_datetime    50000 non-null  object \n",
      " 3   pickup_longitude   50000 non-null  float64\n",
      " 4   pickup_latitude    50000 non-null  float64\n",
      " 5   dropoff_longitude  50000 non-null  float64\n",
      " 6   dropoff_latitude   50000 non-null  float64\n",
      " 7   passenger_count    50000 non-null  int64  \n",
      "dtypes: float64(5), int64(1), object(2)\n",
      "memory usage: 3.1+ MB\n"
     ]
    }
   ],
   "source": [
    "df.info()"
   ]
  },
  {
   "cell_type": "code",
   "execution_count": 9,
   "metadata": {},
   "outputs": [],
   "source": [
    "# 거리계산(하버사인)\n",
    "def calc_haversine(lat1, lon1, lat2, lon2, unit='km'):\n",
    "     R = 6371  # Radius of the Earth in kilometers\n",
    "     d_lat = np.radians(lat2 - lat1)\n",
    "     d_lon = np.radians(lon2 - lon1)\n",
    "    \n",
    "     a = (np.sin(d_lat / 2) ** 2 + \n",
    "         np.cos(np.radians(lat1)) * np.cos(np.radians(lat2)) * \n",
    "         np.sin(d_lon / 2) ** 2)\n",
    "     c = 2 * np.arctan2(np.sqrt(a), np.sqrt(1 - a))\n",
    "     \n",
    "     dist = R * c  # Distance in kilometers\n",
    "\n",
    "     if unit == 'miles':\n",
    "          return dist * 0.621371  # Convert to miles\n",
    "    \n",
    "     return dist"
   ]
  },
  {
   "cell_type": "code",
   "execution_count": 10,
   "metadata": {},
   "outputs": [],
   "source": [
    "# 거리 계산(picup 위도, 경도 drop 위도, 경도, 마일/킬로)\n",
    "df['distance'] = calc_haversine(df['pickup_latitude'], df['pickup_longitude'], \n",
    "                                 df['dropoff_latitude'], df['dropoff_longitude'], unit='miles')"
   ]
  },
  {
   "cell_type": "code",
   "execution_count": 11,
   "metadata": {},
   "outputs": [
    {
     "name": "stdout",
     "output_type": "stream",
     "text": [
      "0.22762328001256715\n",
      "0.14143850512468886\n",
      "0.6404868170854897\n"
     ]
    }
   ],
   "source": [
    "# km 검증\n",
    "val_km = calc_haversine(40.721319, -73.844311, 40.721319, -73.84161)\n",
    "print(val_km)\n",
    "\n",
    "# miles 검증\n",
    "val_miles = calc_haversine(40.721319, -73.844311, 40.721319, -73.84161, unit='miles')\n",
    "print(val_miles)\n",
    "\n",
    "val_miles2 = calc_haversine(40.721319, -73.844311, 40.712278, -73.841610, unit='miles')    \n",
    "print(val_miles2)"
   ]
  },
  {
   "cell_type": "code",
   "execution_count": 12,
   "metadata": {},
   "outputs": [],
   "source": [
    "df2 = df.copy()"
   ]
  },
  {
   "cell_type": "code",
   "execution_count": 13,
   "metadata": {},
   "outputs": [
    {
     "data": {
      "application/vnd.microsoft.datawrangler.viewer.v0+json": {
       "columns": [
        {
         "name": "index",
         "rawType": "int64",
         "type": "integer"
        },
        {
         "name": "fare_amount",
         "rawType": "float64",
         "type": "float"
        },
        {
         "name": "distance",
         "rawType": "float64",
         "type": "float"
        }
       ],
       "conversionMethod": "pd.DataFrame",
       "ref": "3e25e7a0-48ba-4142-bdd6-f9e94c564c39",
       "rows": [
        [
         "0",
         "4.5",
         "0.6404868170850108"
        ],
        [
         "1",
         "16.9",
         "5.250667962559626"
        ],
        [
         "2",
         "5.7",
         "0.8634106790618853"
        ],
        [
         "3",
         "7.7",
         "1.7393853482886954"
        ],
        [
         "4",
         "5.3",
         "1.2422180525136075"
        ],
        [
         "5",
         "12.1",
         "2.3532805373500256"
        ],
        [
         "6",
         "7.5",
         "0.9667331397271912"
        ],
        [
         "7",
         "16.5",
         "2.5820725750686186"
        ],
        [
         "8",
         "9.0",
         "0.7787217182938256"
        ],
        [
         "9",
         "8.9",
         "1.770675451924222"
        ],
        [
         "10",
         "5.3",
         "0.8541222848147084"
        ],
        [
         "11",
         "5.5",
         "0.0"
        ],
        [
         "12",
         "4.1",
         "0.4459999014464723"
        ],
        [
         "13",
         "7.0",
         "1.2547865480896732"
        ],
        [
         "14",
         "7.7",
         "1.0385872013507926"
        ],
        [
         "15",
         "5.0",
         "0.0"
        ],
        [
         "16",
         "12.5",
         "1.6216381869530194"
        ],
        [
         "17",
         "5.3",
         "0.9394534543098617"
        ],
        [
         "18",
         "5.3",
         "0.5728740611241103"
        ],
        [
         "19",
         "4.0",
         "0.248037987467631"
        ]
       ],
       "shape": {
        "columns": 2,
        "rows": 20
       }
      },
      "text/html": [
       "<div>\n",
       "<style scoped>\n",
       "    .dataframe tbody tr th:only-of-type {\n",
       "        vertical-align: middle;\n",
       "    }\n",
       "\n",
       "    .dataframe tbody tr th {\n",
       "        vertical-align: top;\n",
       "    }\n",
       "\n",
       "    .dataframe thead th {\n",
       "        text-align: right;\n",
       "    }\n",
       "</style>\n",
       "<table border=\"1\" class=\"dataframe\">\n",
       "  <thead>\n",
       "    <tr style=\"text-align: right;\">\n",
       "      <th></th>\n",
       "      <th>fare_amount</th>\n",
       "      <th>distance</th>\n",
       "    </tr>\n",
       "  </thead>\n",
       "  <tbody>\n",
       "    <tr>\n",
       "      <th>0</th>\n",
       "      <td>4.5</td>\n",
       "      <td>0.640487</td>\n",
       "    </tr>\n",
       "    <tr>\n",
       "      <th>1</th>\n",
       "      <td>16.9</td>\n",
       "      <td>5.250668</td>\n",
       "    </tr>\n",
       "    <tr>\n",
       "      <th>2</th>\n",
       "      <td>5.7</td>\n",
       "      <td>0.863411</td>\n",
       "    </tr>\n",
       "    <tr>\n",
       "      <th>3</th>\n",
       "      <td>7.7</td>\n",
       "      <td>1.739385</td>\n",
       "    </tr>\n",
       "    <tr>\n",
       "      <th>4</th>\n",
       "      <td>5.3</td>\n",
       "      <td>1.242218</td>\n",
       "    </tr>\n",
       "    <tr>\n",
       "      <th>5</th>\n",
       "      <td>12.1</td>\n",
       "      <td>2.353281</td>\n",
       "    </tr>\n",
       "    <tr>\n",
       "      <th>6</th>\n",
       "      <td>7.5</td>\n",
       "      <td>0.966733</td>\n",
       "    </tr>\n",
       "    <tr>\n",
       "      <th>7</th>\n",
       "      <td>16.5</td>\n",
       "      <td>2.582073</td>\n",
       "    </tr>\n",
       "    <tr>\n",
       "      <th>8</th>\n",
       "      <td>9.0</td>\n",
       "      <td>0.778722</td>\n",
       "    </tr>\n",
       "    <tr>\n",
       "      <th>9</th>\n",
       "      <td>8.9</td>\n",
       "      <td>1.770675</td>\n",
       "    </tr>\n",
       "    <tr>\n",
       "      <th>10</th>\n",
       "      <td>5.3</td>\n",
       "      <td>0.854122</td>\n",
       "    </tr>\n",
       "    <tr>\n",
       "      <th>11</th>\n",
       "      <td>5.5</td>\n",
       "      <td>0.000000</td>\n",
       "    </tr>\n",
       "    <tr>\n",
       "      <th>12</th>\n",
       "      <td>4.1</td>\n",
       "      <td>0.446000</td>\n",
       "    </tr>\n",
       "    <tr>\n",
       "      <th>13</th>\n",
       "      <td>7.0</td>\n",
       "      <td>1.254787</td>\n",
       "    </tr>\n",
       "    <tr>\n",
       "      <th>14</th>\n",
       "      <td>7.7</td>\n",
       "      <td>1.038587</td>\n",
       "    </tr>\n",
       "    <tr>\n",
       "      <th>15</th>\n",
       "      <td>5.0</td>\n",
       "      <td>0.000000</td>\n",
       "    </tr>\n",
       "    <tr>\n",
       "      <th>16</th>\n",
       "      <td>12.5</td>\n",
       "      <td>1.621638</td>\n",
       "    </tr>\n",
       "    <tr>\n",
       "      <th>17</th>\n",
       "      <td>5.3</td>\n",
       "      <td>0.939453</td>\n",
       "    </tr>\n",
       "    <tr>\n",
       "      <th>18</th>\n",
       "      <td>5.3</td>\n",
       "      <td>0.572874</td>\n",
       "    </tr>\n",
       "    <tr>\n",
       "      <th>19</th>\n",
       "      <td>4.0</td>\n",
       "      <td>0.248038</td>\n",
       "    </tr>\n",
       "  </tbody>\n",
       "</table>\n",
       "</div>"
      ],
      "text/plain": [
       "    fare_amount  distance\n",
       "0           4.5  0.640487\n",
       "1          16.9  5.250668\n",
       "2           5.7  0.863411\n",
       "3           7.7  1.739385\n",
       "4           5.3  1.242218\n",
       "5          12.1  2.353281\n",
       "6           7.5  0.966733\n",
       "7          16.5  2.582073\n",
       "8           9.0  0.778722\n",
       "9           8.9  1.770675\n",
       "10          5.3  0.854122\n",
       "11          5.5  0.000000\n",
       "12          4.1  0.446000\n",
       "13          7.0  1.254787\n",
       "14          7.7  1.038587\n",
       "15          5.0  0.000000\n",
       "16         12.5  1.621638\n",
       "17          5.3  0.939453\n",
       "18          5.3  0.572874\n",
       "19          4.0  0.248038"
      ]
     },
     "execution_count": 13,
     "metadata": {},
     "output_type": "execute_result"
    }
   ],
   "source": [
    "df2[['fare_amount', 'distance']].head(20)"
   ]
  },
  {
   "cell_type": "code",
   "execution_count": 14,
   "metadata": {},
   "outputs": [
    {
     "data": {
      "application/vnd.microsoft.datawrangler.viewer.v0+json": {
       "columns": [
        {
         "name": "index",
         "rawType": "object",
         "type": "string"
        },
        {
         "name": "fare_amount",
         "rawType": "float64",
         "type": "float"
        },
        {
         "name": "pickup_longitude",
         "rawType": "float64",
         "type": "float"
        },
        {
         "name": "pickup_latitude",
         "rawType": "float64",
         "type": "float"
        },
        {
         "name": "dropoff_longitude",
         "rawType": "float64",
         "type": "float"
        },
        {
         "name": "dropoff_latitude",
         "rawType": "float64",
         "type": "float"
        },
        {
         "name": "passenger_count",
         "rawType": "float64",
         "type": "float"
        },
        {
         "name": "distance",
         "rawType": "float64",
         "type": "float"
        }
       ],
       "conversionMethod": "pd.DataFrame",
       "ref": "dee1b48f-5b87-4b13-860d-f5d019c70939",
       "rows": [
        [
         "count",
         "50000.0",
         "50000.0",
         "50000.0",
         "50000.0",
         "50000.0",
         "50000.0",
         "50000.0"
        ],
        [
         "mean",
         "11.364171400000002",
         "-72.50975557604121",
         "39.9337589741117",
         "-72.50461600229453",
         "39.92625140791426",
         "1.66784",
         "11.500922573083251"
        ],
        [
         "std",
         "9.685557457879616",
         "10.393860223925216",
         "6.224857169095962",
         "10.407569603251702",
         "6.014736698082236",
         "1.2891947001362896",
         "220.93735053481393"
        ],
        [
         "min",
         "-5.0",
         "-75.423848316623",
         "-74.006893",
         "-84.654241",
         "-74.006377",
         "0.0",
         "0.0"
        ],
        [
         "25%",
         "6.0",
         "-73.992062",
         "40.73488",
         "-73.991152",
         "40.7343715",
         "1.0",
         "0.7600273038266597"
        ],
        [
         "50%",
         "8.5",
         "-73.98184",
         "40.752678",
         "-73.9800825",
         "40.7533715",
         "1.0",
         "1.3173772808390876"
        ],
        [
         "75%",
         "12.5",
         "-73.967148",
         "40.767360499999995",
         "-73.96358375",
         "40.768167",
         "2.0",
         "2.420594271399569"
        ],
        [
         "max",
         "200.0",
         "40.783472",
         "401.083332",
         "40.851027",
         "43.41519",
         "6.0",
         "5385.931243166372"
        ]
       ],
       "shape": {
        "columns": 7,
        "rows": 8
       }
      },
      "text/html": [
       "<div>\n",
       "<style scoped>\n",
       "    .dataframe tbody tr th:only-of-type {\n",
       "        vertical-align: middle;\n",
       "    }\n",
       "\n",
       "    .dataframe tbody tr th {\n",
       "        vertical-align: top;\n",
       "    }\n",
       "\n",
       "    .dataframe thead th {\n",
       "        text-align: right;\n",
       "    }\n",
       "</style>\n",
       "<table border=\"1\" class=\"dataframe\">\n",
       "  <thead>\n",
       "    <tr style=\"text-align: right;\">\n",
       "      <th></th>\n",
       "      <th>fare_amount</th>\n",
       "      <th>pickup_longitude</th>\n",
       "      <th>pickup_latitude</th>\n",
       "      <th>dropoff_longitude</th>\n",
       "      <th>dropoff_latitude</th>\n",
       "      <th>passenger_count</th>\n",
       "      <th>distance</th>\n",
       "    </tr>\n",
       "  </thead>\n",
       "  <tbody>\n",
       "    <tr>\n",
       "      <th>count</th>\n",
       "      <td>50000.000000</td>\n",
       "      <td>50000.000000</td>\n",
       "      <td>50000.000000</td>\n",
       "      <td>50000.000000</td>\n",
       "      <td>50000.000000</td>\n",
       "      <td>50000.000000</td>\n",
       "      <td>50000.000000</td>\n",
       "    </tr>\n",
       "    <tr>\n",
       "      <th>mean</th>\n",
       "      <td>11.364171</td>\n",
       "      <td>-72.509756</td>\n",
       "      <td>39.933759</td>\n",
       "      <td>-72.504616</td>\n",
       "      <td>39.926251</td>\n",
       "      <td>1.667840</td>\n",
       "      <td>11.500923</td>\n",
       "    </tr>\n",
       "    <tr>\n",
       "      <th>std</th>\n",
       "      <td>9.685557</td>\n",
       "      <td>10.393860</td>\n",
       "      <td>6.224857</td>\n",
       "      <td>10.407570</td>\n",
       "      <td>6.014737</td>\n",
       "      <td>1.289195</td>\n",
       "      <td>220.937351</td>\n",
       "    </tr>\n",
       "    <tr>\n",
       "      <th>min</th>\n",
       "      <td>-5.000000</td>\n",
       "      <td>-75.423848</td>\n",
       "      <td>-74.006893</td>\n",
       "      <td>-84.654241</td>\n",
       "      <td>-74.006377</td>\n",
       "      <td>0.000000</td>\n",
       "      <td>0.000000</td>\n",
       "    </tr>\n",
       "    <tr>\n",
       "      <th>25%</th>\n",
       "      <td>6.000000</td>\n",
       "      <td>-73.992062</td>\n",
       "      <td>40.734880</td>\n",
       "      <td>-73.991152</td>\n",
       "      <td>40.734372</td>\n",
       "      <td>1.000000</td>\n",
       "      <td>0.760027</td>\n",
       "    </tr>\n",
       "    <tr>\n",
       "      <th>50%</th>\n",
       "      <td>8.500000</td>\n",
       "      <td>-73.981840</td>\n",
       "      <td>40.752678</td>\n",
       "      <td>-73.980082</td>\n",
       "      <td>40.753372</td>\n",
       "      <td>1.000000</td>\n",
       "      <td>1.317377</td>\n",
       "    </tr>\n",
       "    <tr>\n",
       "      <th>75%</th>\n",
       "      <td>12.500000</td>\n",
       "      <td>-73.967148</td>\n",
       "      <td>40.767360</td>\n",
       "      <td>-73.963584</td>\n",
       "      <td>40.768167</td>\n",
       "      <td>2.000000</td>\n",
       "      <td>2.420594</td>\n",
       "    </tr>\n",
       "    <tr>\n",
       "      <th>max</th>\n",
       "      <td>200.000000</td>\n",
       "      <td>40.783472</td>\n",
       "      <td>401.083332</td>\n",
       "      <td>40.851027</td>\n",
       "      <td>43.415190</td>\n",
       "      <td>6.000000</td>\n",
       "      <td>5385.931243</td>\n",
       "    </tr>\n",
       "  </tbody>\n",
       "</table>\n",
       "</div>"
      ],
      "text/plain": [
       "        fare_amount  pickup_longitude  pickup_latitude  dropoff_longitude  \\\n",
       "count  50000.000000      50000.000000     50000.000000       50000.000000   \n",
       "mean      11.364171        -72.509756        39.933759         -72.504616   \n",
       "std        9.685557         10.393860         6.224857          10.407570   \n",
       "min       -5.000000        -75.423848       -74.006893         -84.654241   \n",
       "25%        6.000000        -73.992062        40.734880         -73.991152   \n",
       "50%        8.500000        -73.981840        40.752678         -73.980082   \n",
       "75%       12.500000        -73.967148        40.767360         -73.963584   \n",
       "max      200.000000         40.783472       401.083332          40.851027   \n",
       "\n",
       "       dropoff_latitude  passenger_count      distance  \n",
       "count      50000.000000     50000.000000  50000.000000  \n",
       "mean          39.926251         1.667840     11.500923  \n",
       "std            6.014737         1.289195    220.937351  \n",
       "min          -74.006377         0.000000      0.000000  \n",
       "25%           40.734372         1.000000      0.760027  \n",
       "50%           40.753372         1.000000      1.317377  \n",
       "75%           40.768167         2.000000      2.420594  \n",
       "max           43.415190         6.000000   5385.931243  "
      ]
     },
     "execution_count": 14,
     "metadata": {},
     "output_type": "execute_result"
    }
   ],
   "source": [
    "df2.describe()"
   ]
  },
  {
   "cell_type": "code",
   "execution_count": 15,
   "metadata": {},
   "outputs": [],
   "source": [
    "# 리스트를 입력으로 받아서 해당 리스트 내에 음수값이 있으면 그 위치(인덱스)들을 리스트로 출력하는 함수를 만듭니다.  \n",
    "def get_negative_index(list_data):\n",
    "    neg_idx=[]\n",
    "    \n",
    "    for i, value in enumerate(list_data):\n",
    "        if value < 0:\n",
    "            neg_idx.append(list_data.index[i])         \n",
    "\n",
    "    return neg_idx\n",
    "\n",
    "# DataFrame 내에 제거해야 하는 이상치의 인덱스를 반환하는 함수를 만듭니다.\n",
    "def outlier_index():\n",
    "    # get_negative_index() 함수를 통해서, fare_amount와 passenger_count 내의 음수값들의 인덱스를 반환합니다.\n",
    "    idx_fare_amount = get_negative_index(fare_amount)\n",
    "    idx_passenger_count = get_negative_index(passenger_count)\n",
    "\n",
    "    idx_zero_distance=[]    \n",
    "    idx= [i for i in range(len(passenger_count))]\n",
    "    zipped = zip(idx, pickup_longitude, pickup_latitude, dropoff_longitude, dropoff_latitude)\n",
    "   \n",
    "    for i, x, y, _x, _y in zipped:\n",
    "        # 타는 곳(pickup_longitude,pickup_latitude)과 내리는 곳(drop_longitude, drop_latitude)이 같은 데이터의 인덱스를 idx_zero_distance에 저장합니다.\n",
    "        if (x == _x) and (y == _y):\n",
    "            idx_zero_distance.append(i)\n",
    "           \n",
    "    total_index4remove = list(set(idx_fare_amount+idx_passenger_count+idx_zero_distance))\n",
    "  \n",
    "    return total_index4remove\n",
    "\n",
    "# 인덱스를 기반으로 DataFrame 내의 데이터를 제거하고, 제거된 DataFrame을 반환하는 함수를 만듭니다.\n",
    "def remove_outlier(dataframe, list_idx):\n",
    "    return dataframe.drop(list_idx)"
   ]
  },
  {
   "cell_type": "code",
   "execution_count": 24,
   "metadata": {},
   "outputs": [
    {
     "name": "stdout",
     "output_type": "stream",
     "text": [
      "<class 'pandas.core.frame.DataFrame'>\n",
      "Index: 48545 entries, 0 to 49998\n",
      "Data columns (total 9 columns):\n",
      " #   Column             Non-Null Count  Dtype  \n",
      "---  ------             --------------  -----  \n",
      " 0   key                48545 non-null  object \n",
      " 1   fare_amount        48545 non-null  float64\n",
      " 2   pickup_datetime    48545 non-null  object \n",
      " 3   pickup_longitude   48545 non-null  float64\n",
      " 4   pickup_latitude    48545 non-null  float64\n",
      " 5   dropoff_longitude  48545 non-null  float64\n",
      " 6   dropoff_latitude   48545 non-null  float64\n",
      " 7   passenger_count    48545 non-null  int64  \n",
      " 8   distance           48545 non-null  float64\n",
      "dtypes: float64(6), int64(1), object(2)\n",
      "memory usage: 3.7+ MB\n",
      "None\n"
     ]
    }
   ],
   "source": [
    "#불러온 DataFrame의 각 인덱스의 값들을 변수로 저장합니다.\n",
    "fare_amount = df2['fare_amount']\n",
    "passenger_count = df2['passenger_count']\n",
    "pickup_longitude = df2['pickup_longitude']\n",
    "pickup_latitude = df2['pickup_latitude']\n",
    "dropoff_longitude = df2['dropoff_longitude']\n",
    "dropoff_latitude = df2['dropoff_latitude']\n",
    "\n",
    "# 이상치를 제거합니다.\n",
    "remove_index = outlier_index()\n",
    "df2=remove_outlier(df2, remove_index)\n",
    "print(df2.info())"
   ]
  },
  {
   "cell_type": "code",
   "execution_count": 25,
   "metadata": {},
   "outputs": [
    {
     "data": {
      "application/vnd.microsoft.datawrangler.viewer.v0+json": {
       "columns": [
        {
         "name": "index",
         "rawType": "object",
         "type": "string"
        },
        {
         "name": "fare_amount",
         "rawType": "float64",
         "type": "float"
        },
        {
         "name": "pickup_longitude",
         "rawType": "float64",
         "type": "float"
        },
        {
         "name": "pickup_latitude",
         "rawType": "float64",
         "type": "float"
        },
        {
         "name": "dropoff_longitude",
         "rawType": "float64",
         "type": "float"
        },
        {
         "name": "dropoff_latitude",
         "rawType": "float64",
         "type": "float"
        },
        {
         "name": "passenger_count",
         "rawType": "float64",
         "type": "float"
        },
        {
         "name": "distance",
         "rawType": "float64",
         "type": "float"
        }
       ],
       "conversionMethod": "pd.DataFrame",
       "ref": "0fe85dbb-72ad-43a0-9105-f717fd3b8333",
       "rows": [
        [
         "count",
         "48545.0",
         "48545.0",
         "48545.0",
         "48545.0",
         "48545.0",
         "48545.0",
         "48545.0"
        ],
        [
         "mean",
         "11.367039035946028",
         "-73.85892272910208",
         "40.676480502068955",
         "-73.8551493035073",
         "40.669585138114066",
         "1.670347100628283",
         "11.734923281190369"
        ],
        [
         "std",
         "9.561261147181417",
         "3.2301721637860425",
         "3.0537597971132238",
         "3.2603154131082994",
         "2.5795326941500316",
         "1.2917354035961246",
         "222.89044582877875"
        ],
        [
         "min",
         "0.0",
         "-75.423848316623",
         "-74.006893",
         "-84.654241",
         "-74.006377",
         "0.0",
         "5.2423815774866606e-05"
        ],
        [
         "25%",
         "6.0",
         "-73.9923",
         "40.736422",
         "-73.99132537841797",
         "40.73577",
         "1.0",
         "0.8014286829097921"
        ],
        [
         "50%",
         "8.5",
         "-73.982125",
         "40.753387",
         "-73.98047700000001",
         "40.754057",
         "1.0",
         "1.3614718132231858"
        ],
        [
         "75%",
         "12.5",
         "-73.968423",
         "40.76774",
         "-73.965335",
         "40.768482",
         "2.0",
         "2.4804548435057203"
        ],
        [
         "max",
         "200.0",
         "40.783472",
         "401.083332",
         "40.851027",
         "43.41519",
         "6.0",
         "5385.931243166372"
        ]
       ],
       "shape": {
        "columns": 7,
        "rows": 8
       }
      },
      "text/html": [
       "<div>\n",
       "<style scoped>\n",
       "    .dataframe tbody tr th:only-of-type {\n",
       "        vertical-align: middle;\n",
       "    }\n",
       "\n",
       "    .dataframe tbody tr th {\n",
       "        vertical-align: top;\n",
       "    }\n",
       "\n",
       "    .dataframe thead th {\n",
       "        text-align: right;\n",
       "    }\n",
       "</style>\n",
       "<table border=\"1\" class=\"dataframe\">\n",
       "  <thead>\n",
       "    <tr style=\"text-align: right;\">\n",
       "      <th></th>\n",
       "      <th>fare_amount</th>\n",
       "      <th>pickup_longitude</th>\n",
       "      <th>pickup_latitude</th>\n",
       "      <th>dropoff_longitude</th>\n",
       "      <th>dropoff_latitude</th>\n",
       "      <th>passenger_count</th>\n",
       "      <th>distance</th>\n",
       "    </tr>\n",
       "  </thead>\n",
       "  <tbody>\n",
       "    <tr>\n",
       "      <th>count</th>\n",
       "      <td>48545.000000</td>\n",
       "      <td>48545.000000</td>\n",
       "      <td>48545.000000</td>\n",
       "      <td>48545.000000</td>\n",
       "      <td>48545.000000</td>\n",
       "      <td>48545.000000</td>\n",
       "      <td>48545.000000</td>\n",
       "    </tr>\n",
       "    <tr>\n",
       "      <th>mean</th>\n",
       "      <td>11.367039</td>\n",
       "      <td>-73.858923</td>\n",
       "      <td>40.676481</td>\n",
       "      <td>-73.855149</td>\n",
       "      <td>40.669585</td>\n",
       "      <td>1.670347</td>\n",
       "      <td>11.734923</td>\n",
       "    </tr>\n",
       "    <tr>\n",
       "      <th>std</th>\n",
       "      <td>9.561261</td>\n",
       "      <td>3.230172</td>\n",
       "      <td>3.053760</td>\n",
       "      <td>3.260315</td>\n",
       "      <td>2.579533</td>\n",
       "      <td>1.291735</td>\n",
       "      <td>222.890446</td>\n",
       "    </tr>\n",
       "    <tr>\n",
       "      <th>min</th>\n",
       "      <td>0.000000</td>\n",
       "      <td>-75.423848</td>\n",
       "      <td>-74.006893</td>\n",
       "      <td>-84.654241</td>\n",
       "      <td>-74.006377</td>\n",
       "      <td>0.000000</td>\n",
       "      <td>0.000052</td>\n",
       "    </tr>\n",
       "    <tr>\n",
       "      <th>25%</th>\n",
       "      <td>6.000000</td>\n",
       "      <td>-73.992300</td>\n",
       "      <td>40.736422</td>\n",
       "      <td>-73.991325</td>\n",
       "      <td>40.735770</td>\n",
       "      <td>1.000000</td>\n",
       "      <td>0.801429</td>\n",
       "    </tr>\n",
       "    <tr>\n",
       "      <th>50%</th>\n",
       "      <td>8.500000</td>\n",
       "      <td>-73.982125</td>\n",
       "      <td>40.753387</td>\n",
       "      <td>-73.980477</td>\n",
       "      <td>40.754057</td>\n",
       "      <td>1.000000</td>\n",
       "      <td>1.361472</td>\n",
       "    </tr>\n",
       "    <tr>\n",
       "      <th>75%</th>\n",
       "      <td>12.500000</td>\n",
       "      <td>-73.968423</td>\n",
       "      <td>40.767740</td>\n",
       "      <td>-73.965335</td>\n",
       "      <td>40.768482</td>\n",
       "      <td>2.000000</td>\n",
       "      <td>2.480455</td>\n",
       "    </tr>\n",
       "    <tr>\n",
       "      <th>max</th>\n",
       "      <td>200.000000</td>\n",
       "      <td>40.783472</td>\n",
       "      <td>401.083332</td>\n",
       "      <td>40.851027</td>\n",
       "      <td>43.415190</td>\n",
       "      <td>6.000000</td>\n",
       "      <td>5385.931243</td>\n",
       "    </tr>\n",
       "  </tbody>\n",
       "</table>\n",
       "</div>"
      ],
      "text/plain": [
       "        fare_amount  pickup_longitude  pickup_latitude  dropoff_longitude  \\\n",
       "count  48545.000000      48545.000000     48545.000000       48545.000000   \n",
       "mean      11.367039        -73.858923        40.676481         -73.855149   \n",
       "std        9.561261          3.230172         3.053760           3.260315   \n",
       "min        0.000000        -75.423848       -74.006893         -84.654241   \n",
       "25%        6.000000        -73.992300        40.736422         -73.991325   \n",
       "50%        8.500000        -73.982125        40.753387         -73.980477   \n",
       "75%       12.500000        -73.968423        40.767740         -73.965335   \n",
       "max      200.000000         40.783472       401.083332          40.851027   \n",
       "\n",
       "       dropoff_latitude  passenger_count      distance  \n",
       "count      48545.000000     48545.000000  48545.000000  \n",
       "mean          40.669585         1.670347     11.734923  \n",
       "std            2.579533         1.291735    222.890446  \n",
       "min          -74.006377         0.000000      0.000052  \n",
       "25%           40.735770         1.000000      0.801429  \n",
       "50%           40.754057         1.000000      1.361472  \n",
       "75%           40.768482         2.000000      2.480455  \n",
       "max           43.415190         6.000000   5385.931243  "
      ]
     },
     "execution_count": 25,
     "metadata": {},
     "output_type": "execute_result"
    }
   ],
   "source": [
    "df2.describe()"
   ]
  },
  {
   "cell_type": "code",
   "execution_count": 26,
   "metadata": {},
   "outputs": [
    {
     "data": {
      "text/plain": [
       "92"
      ]
     },
     "execution_count": 26,
     "metadata": {},
     "output_type": "execute_result"
    }
   ],
   "source": [
    "_mean = 12\n",
    "_std = 223\n",
    "# 이상값 탐지 기준 설정 (평균 ± 2 * 표준편차)\n",
    "threshold_high = _mean + 2 * _std\n",
    "threshold_low = _mean - 2 * _std\n",
    "\n",
    "# 이상값 찾기\n",
    "outliers = df2[(df2['distance'] > threshold_high) | (df2['distance'] < threshold_low)]\n",
    "len(outliers)"
   ]
  },
  {
   "cell_type": "code",
   "execution_count": 27,
   "metadata": {},
   "outputs": [],
   "source": [
    "# 이상값 제거\n",
    "cleaned_data = df2[(df2['distance'] <= threshold_high) & (df2['distance'] >= threshold_low)]"
   ]
  },
  {
   "cell_type": "code",
   "execution_count": 28,
   "metadata": {},
   "outputs": [
    {
     "data": {
      "application/vnd.microsoft.datawrangler.viewer.v0+json": {
       "columns": [
        {
         "name": "index",
         "rawType": "object",
         "type": "string"
        },
        {
         "name": "fare_amount",
         "rawType": "float64",
         "type": "float"
        },
        {
         "name": "pickup_longitude",
         "rawType": "float64",
         "type": "float"
        },
        {
         "name": "pickup_latitude",
         "rawType": "float64",
         "type": "float"
        },
        {
         "name": "dropoff_longitude",
         "rawType": "float64",
         "type": "float"
        },
        {
         "name": "dropoff_latitude",
         "rawType": "float64",
         "type": "float"
        },
        {
         "name": "passenger_count",
         "rawType": "float64",
         "type": "float"
        },
        {
         "name": "distance",
         "rawType": "float64",
         "type": "float"
        }
       ],
       "conversionMethod": "pd.DataFrame",
       "ref": "be90c4aa-6855-48c1-b834-41b8a427e1ae",
       "rows": [
        [
         "count",
         "48453.0",
         "48453.0",
         "48453.0",
         "48453.0",
         "48453.0",
         "48453.0",
         "48453.0"
        ],
        [
         "mean",
         "11.36395847522341",
         "-73.92738127899962",
         "40.71165001337196",
         "-73.92620511891727",
         "40.704792542185864",
         "1.6706705467153737",
         "2.131578137991623"
        ],
        [
         "std",
         "9.555966907260625",
         "2.3208824367080703",
         "2.8122887016150817",
         "2.3209347864682774",
         "2.286680942978429",
         "1.291893850132534",
         "2.9044742663516376"
        ],
        [
         "min",
         "0.0",
         "-75.423848316623",
         "-74.006893",
         "-75.3545589179",
         "-74.006377",
         "0.0",
         "5.2423815774866606e-05"
        ],
        [
         "25%",
         "6.0",
         "-73.992313",
         "40.73649",
         "-73.991333",
         "40.735867",
         "1.0",
         "0.800485413114315"
        ],
        [
         "50%",
         "8.5",
         "-73.98213299999999",
         "40.753432",
         "-73.980496",
         "40.754125",
         "1.0",
         "1.3589024367450326"
        ],
        [
         "75%",
         "12.5",
         "-73.96848",
         "40.767781",
         "-73.96542600000001",
         "40.768516540527344",
         "2.0",
         "2.4698367370984387"
        ],
        [
         "max",
         "200.0",
         "40.783472",
         "401.083332",
         "40.851027",
         "43.41519",
         "6.0",
         "233.91233917226796"
        ]
       ],
       "shape": {
        "columns": 7,
        "rows": 8
       }
      },
      "text/html": [
       "<div>\n",
       "<style scoped>\n",
       "    .dataframe tbody tr th:only-of-type {\n",
       "        vertical-align: middle;\n",
       "    }\n",
       "\n",
       "    .dataframe tbody tr th {\n",
       "        vertical-align: top;\n",
       "    }\n",
       "\n",
       "    .dataframe thead th {\n",
       "        text-align: right;\n",
       "    }\n",
       "</style>\n",
       "<table border=\"1\" class=\"dataframe\">\n",
       "  <thead>\n",
       "    <tr style=\"text-align: right;\">\n",
       "      <th></th>\n",
       "      <th>fare_amount</th>\n",
       "      <th>pickup_longitude</th>\n",
       "      <th>pickup_latitude</th>\n",
       "      <th>dropoff_longitude</th>\n",
       "      <th>dropoff_latitude</th>\n",
       "      <th>passenger_count</th>\n",
       "      <th>distance</th>\n",
       "    </tr>\n",
       "  </thead>\n",
       "  <tbody>\n",
       "    <tr>\n",
       "      <th>count</th>\n",
       "      <td>48453.000000</td>\n",
       "      <td>48453.000000</td>\n",
       "      <td>48453.000000</td>\n",
       "      <td>48453.000000</td>\n",
       "      <td>48453.000000</td>\n",
       "      <td>48453.000000</td>\n",
       "      <td>48453.000000</td>\n",
       "    </tr>\n",
       "    <tr>\n",
       "      <th>mean</th>\n",
       "      <td>11.363958</td>\n",
       "      <td>-73.927381</td>\n",
       "      <td>40.711650</td>\n",
       "      <td>-73.926205</td>\n",
       "      <td>40.704793</td>\n",
       "      <td>1.670671</td>\n",
       "      <td>2.131578</td>\n",
       "    </tr>\n",
       "    <tr>\n",
       "      <th>std</th>\n",
       "      <td>9.555967</td>\n",
       "      <td>2.320882</td>\n",
       "      <td>2.812289</td>\n",
       "      <td>2.320935</td>\n",
       "      <td>2.286681</td>\n",
       "      <td>1.291894</td>\n",
       "      <td>2.904474</td>\n",
       "    </tr>\n",
       "    <tr>\n",
       "      <th>min</th>\n",
       "      <td>0.000000</td>\n",
       "      <td>-75.423848</td>\n",
       "      <td>-74.006893</td>\n",
       "      <td>-75.354559</td>\n",
       "      <td>-74.006377</td>\n",
       "      <td>0.000000</td>\n",
       "      <td>0.000052</td>\n",
       "    </tr>\n",
       "    <tr>\n",
       "      <th>25%</th>\n",
       "      <td>6.000000</td>\n",
       "      <td>-73.992313</td>\n",
       "      <td>40.736490</td>\n",
       "      <td>-73.991333</td>\n",
       "      <td>40.735867</td>\n",
       "      <td>1.000000</td>\n",
       "      <td>0.800485</td>\n",
       "    </tr>\n",
       "    <tr>\n",
       "      <th>50%</th>\n",
       "      <td>8.500000</td>\n",
       "      <td>-73.982133</td>\n",
       "      <td>40.753432</td>\n",
       "      <td>-73.980496</td>\n",
       "      <td>40.754125</td>\n",
       "      <td>1.000000</td>\n",
       "      <td>1.358902</td>\n",
       "    </tr>\n",
       "    <tr>\n",
       "      <th>75%</th>\n",
       "      <td>12.500000</td>\n",
       "      <td>-73.968480</td>\n",
       "      <td>40.767781</td>\n",
       "      <td>-73.965426</td>\n",
       "      <td>40.768517</td>\n",
       "      <td>2.000000</td>\n",
       "      <td>2.469837</td>\n",
       "    </tr>\n",
       "    <tr>\n",
       "      <th>max</th>\n",
       "      <td>200.000000</td>\n",
       "      <td>40.783472</td>\n",
       "      <td>401.083332</td>\n",
       "      <td>40.851027</td>\n",
       "      <td>43.415190</td>\n",
       "      <td>6.000000</td>\n",
       "      <td>233.912339</td>\n",
       "    </tr>\n",
       "  </tbody>\n",
       "</table>\n",
       "</div>"
      ],
      "text/plain": [
       "        fare_amount  pickup_longitude  pickup_latitude  dropoff_longitude  \\\n",
       "count  48453.000000      48453.000000     48453.000000       48453.000000   \n",
       "mean      11.363958        -73.927381        40.711650         -73.926205   \n",
       "std        9.555967          2.320882         2.812289           2.320935   \n",
       "min        0.000000        -75.423848       -74.006893         -75.354559   \n",
       "25%        6.000000        -73.992313        40.736490         -73.991333   \n",
       "50%        8.500000        -73.982133        40.753432         -73.980496   \n",
       "75%       12.500000        -73.968480        40.767781         -73.965426   \n",
       "max      200.000000         40.783472       401.083332          40.851027   \n",
       "\n",
       "       dropoff_latitude  passenger_count      distance  \n",
       "count      48453.000000     48453.000000  48453.000000  \n",
       "mean          40.704793         1.670671      2.131578  \n",
       "std            2.286681         1.291894      2.904474  \n",
       "min          -74.006377         0.000000      0.000052  \n",
       "25%           40.735867         1.000000      0.800485  \n",
       "50%           40.754125         1.000000      1.358902  \n",
       "75%           40.768517         2.000000      2.469837  \n",
       "max           43.415190         6.000000    233.912339  "
      ]
     },
     "execution_count": 28,
     "metadata": {},
     "output_type": "execute_result"
    }
   ],
   "source": [
    "cleaned_data.describe()"
   ]
  },
  {
   "cell_type": "code",
   "execution_count": 29,
   "metadata": {},
   "outputs": [
    {
     "data": {
      "application/vnd.microsoft.datawrangler.viewer.v0+json": {
       "columns": [
        {
         "name": "index",
         "rawType": "object",
         "type": "string"
        },
        {
         "name": "fare_amount",
         "rawType": "float64",
         "type": "float"
        },
        {
         "name": "pickup_longitude",
         "rawType": "float64",
         "type": "float"
        },
        {
         "name": "pickup_latitude",
         "rawType": "float64",
         "type": "float"
        },
        {
         "name": "dropoff_longitude",
         "rawType": "float64",
         "type": "float"
        },
        {
         "name": "dropoff_latitude",
         "rawType": "float64",
         "type": "float"
        },
        {
         "name": "passenger_count",
         "rawType": "float64",
         "type": "float"
        },
        {
         "name": "distance",
         "rawType": "float64",
         "type": "float"
        }
       ],
       "conversionMethod": "pd.DataFrame",
       "ref": "b4e9ed8a-ee01-4575-b485-fb6eb01ca2ed",
       "rows": [
        [
         "fare_amount",
         "1.0",
         "0.017207317310739448",
         "-0.012673556905939904",
         "0.015604362930667007",
         "-0.01265654932535299",
         "0.018233467035153418",
         "0.6806551571930861"
        ],
        [
         "pickup_longitude",
         "0.017207317310739448",
         "1.0",
         "-0.8094678384505456",
         "0.999791819486207",
         "-0.9954979694683664",
         "0.008481951988436542",
         "0.010569744115514892"
        ],
        [
         "pickup_latitude",
         "-0.012673556905939904",
         "-0.8094678384505456",
         "1.0",
         "-0.8094805118347662",
         "0.8130520606191387",
         "-0.008210038439988085",
         "0.012004450193361183"
        ],
        [
         "dropoff_longitude",
         "0.015604362930667007",
         "0.999791819486207",
         "-0.8094805118347662",
         "1.0",
         "-0.9955112857436065",
         "0.008382455081847885",
         "0.007400457352346718"
        ],
        [
         "dropoff_latitude",
         "-0.01265654932535299",
         "-0.9954979694683664",
         "0.8130520606191387",
         "-0.9955112857436065",
         "1.0",
         "-0.008518299120665006",
         "-0.004289910248638092"
        ],
        [
         "passenger_count",
         "0.018233467035153418",
         "0.008481951988436542",
         "-0.008210038439988085",
         "0.008382455081847885",
         "-0.008518299120665006",
         "1.0",
         "0.006524807636619275"
        ],
        [
         "distance",
         "0.6806551571930861",
         "0.010569744115514892",
         "0.012004450193361183",
         "0.007400457352346718",
         "-0.004289910248638092",
         "0.006524807636619275",
         "1.0"
        ]
       ],
       "shape": {
        "columns": 7,
        "rows": 7
       }
      },
      "text/html": [
       "<div>\n",
       "<style scoped>\n",
       "    .dataframe tbody tr th:only-of-type {\n",
       "        vertical-align: middle;\n",
       "    }\n",
       "\n",
       "    .dataframe tbody tr th {\n",
       "        vertical-align: top;\n",
       "    }\n",
       "\n",
       "    .dataframe thead th {\n",
       "        text-align: right;\n",
       "    }\n",
       "</style>\n",
       "<table border=\"1\" class=\"dataframe\">\n",
       "  <thead>\n",
       "    <tr style=\"text-align: right;\">\n",
       "      <th></th>\n",
       "      <th>fare_amount</th>\n",
       "      <th>pickup_longitude</th>\n",
       "      <th>pickup_latitude</th>\n",
       "      <th>dropoff_longitude</th>\n",
       "      <th>dropoff_latitude</th>\n",
       "      <th>passenger_count</th>\n",
       "      <th>distance</th>\n",
       "    </tr>\n",
       "  </thead>\n",
       "  <tbody>\n",
       "    <tr>\n",
       "      <th>fare_amount</th>\n",
       "      <td>1.000000</td>\n",
       "      <td>0.017207</td>\n",
       "      <td>-0.012674</td>\n",
       "      <td>0.015604</td>\n",
       "      <td>-0.012657</td>\n",
       "      <td>0.018233</td>\n",
       "      <td>0.680655</td>\n",
       "    </tr>\n",
       "    <tr>\n",
       "      <th>pickup_longitude</th>\n",
       "      <td>0.017207</td>\n",
       "      <td>1.000000</td>\n",
       "      <td>-0.809468</td>\n",
       "      <td>0.999792</td>\n",
       "      <td>-0.995498</td>\n",
       "      <td>0.008482</td>\n",
       "      <td>0.010570</td>\n",
       "    </tr>\n",
       "    <tr>\n",
       "      <th>pickup_latitude</th>\n",
       "      <td>-0.012674</td>\n",
       "      <td>-0.809468</td>\n",
       "      <td>1.000000</td>\n",
       "      <td>-0.809481</td>\n",
       "      <td>0.813052</td>\n",
       "      <td>-0.008210</td>\n",
       "      <td>0.012004</td>\n",
       "    </tr>\n",
       "    <tr>\n",
       "      <th>dropoff_longitude</th>\n",
       "      <td>0.015604</td>\n",
       "      <td>0.999792</td>\n",
       "      <td>-0.809481</td>\n",
       "      <td>1.000000</td>\n",
       "      <td>-0.995511</td>\n",
       "      <td>0.008382</td>\n",
       "      <td>0.007400</td>\n",
       "    </tr>\n",
       "    <tr>\n",
       "      <th>dropoff_latitude</th>\n",
       "      <td>-0.012657</td>\n",
       "      <td>-0.995498</td>\n",
       "      <td>0.813052</td>\n",
       "      <td>-0.995511</td>\n",
       "      <td>1.000000</td>\n",
       "      <td>-0.008518</td>\n",
       "      <td>-0.004290</td>\n",
       "    </tr>\n",
       "    <tr>\n",
       "      <th>passenger_count</th>\n",
       "      <td>0.018233</td>\n",
       "      <td>0.008482</td>\n",
       "      <td>-0.008210</td>\n",
       "      <td>0.008382</td>\n",
       "      <td>-0.008518</td>\n",
       "      <td>1.000000</td>\n",
       "      <td>0.006525</td>\n",
       "    </tr>\n",
       "    <tr>\n",
       "      <th>distance</th>\n",
       "      <td>0.680655</td>\n",
       "      <td>0.010570</td>\n",
       "      <td>0.012004</td>\n",
       "      <td>0.007400</td>\n",
       "      <td>-0.004290</td>\n",
       "      <td>0.006525</td>\n",
       "      <td>1.000000</td>\n",
       "    </tr>\n",
       "  </tbody>\n",
       "</table>\n",
       "</div>"
      ],
      "text/plain": [
       "                   fare_amount  pickup_longitude  pickup_latitude  \\\n",
       "fare_amount           1.000000          0.017207        -0.012674   \n",
       "pickup_longitude      0.017207          1.000000        -0.809468   \n",
       "pickup_latitude      -0.012674         -0.809468         1.000000   \n",
       "dropoff_longitude     0.015604          0.999792        -0.809481   \n",
       "dropoff_latitude     -0.012657         -0.995498         0.813052   \n",
       "passenger_count       0.018233          0.008482        -0.008210   \n",
       "distance              0.680655          0.010570         0.012004   \n",
       "\n",
       "                   dropoff_longitude  dropoff_latitude  passenger_count  \\\n",
       "fare_amount                 0.015604         -0.012657         0.018233   \n",
       "pickup_longitude            0.999792         -0.995498         0.008482   \n",
       "pickup_latitude            -0.809481          0.813052        -0.008210   \n",
       "dropoff_longitude           1.000000         -0.995511         0.008382   \n",
       "dropoff_latitude           -0.995511          1.000000        -0.008518   \n",
       "passenger_count             0.008382         -0.008518         1.000000   \n",
       "distance                    0.007400         -0.004290         0.006525   \n",
       "\n",
       "                   distance  \n",
       "fare_amount        0.680655  \n",
       "pickup_longitude   0.010570  \n",
       "pickup_latitude    0.012004  \n",
       "dropoff_longitude  0.007400  \n",
       "dropoff_latitude  -0.004290  \n",
       "passenger_count    0.006525  \n",
       "distance           1.000000  "
      ]
     },
     "execution_count": 29,
     "metadata": {},
     "output_type": "execute_result"
    }
   ],
   "source": [
    "# df.corr()을 사용하여 상관 관계 값 계산\n",
    "corr_df = cleaned_data.corr(numeric_only=True)\n",
    "corr_df"
   ]
  },
  {
   "cell_type": "code",
   "execution_count": 22,
   "metadata": {},
   "outputs": [
    {
     "data": {
      "text/plain": [
       "<Axes: xlabel='distance', ylabel='fare_amount'>"
      ]
     },
     "execution_count": 22,
     "metadata": {},
     "output_type": "execute_result"
    },
    {
     "data": {
      "image/png": "[encoded data removed]",
      "text/plain": [
       "<Figure size 800x600 with 1 Axes>"
      ]
     },
     "metadata": {},
     "output_type": "display_data"
    }
   ],
   "source": [
    "plt.figure(figsize=(8, 6))\n",
    "sns.regplot(data=cleaned_data, x=cleaned_data['distance'], y=cleaned_data['fare_amount'], scatter=True)"
   ]
  },
  {
   "cell_type": "markdown",
   "metadata": {},
   "source": [
    "# 회귀분석"
   ]
  },
  {
   "cell_type": "code",
   "execution_count": null,
   "metadata": {},
   "outputs": [
    {
     "name": "stdout",
     "output_type": "stream",
     "text": [
      "(48453,) (48453,)\n",
      "(48453, 1) (48453, 1)\n"
     ]
    }
   ],
   "source": [
    "X = cleaned_data['distance'].values\n",
    "Y = cleaned_data['fare_amount'].values\n",
    "print(X.shape, Y.shape)\n",
    "X = X.reshape(-1, 1)\n",
    "Y = Y.reshape(-1, 1)\n",
    "print(X.shape, Y.shape)"
   ]
  },
  {
   "cell_type": "code",
   "execution_count": null,
   "metadata": {},
   "outputs": [
    {
     "name": "stdout",
     "output_type": "stream",
     "text": [
      "[2.23941325]\n",
      "[6.59047415]\n"
     ]
    }
   ],
   "source": [
    "# 회귀분석하기\n",
    "from sklearn.linear_model import LinearRegression\n",
    "lr = LinearRegression()\n",
    "\n",
    "lr.fit(X, Y) # 학습\n",
    "\n",
    "# r 계수\n",
    "print (lr.coef_[0]) # 기울기\n",
    "\n",
    "# y 절편\n",
    "print (lr.intercept_) # y 절편"
   ]
  },
  {
   "cell_type": "code",
   "execution_count": 34,
   "metadata": {},
   "outputs": [
    {
     "data": {
      "image/png": "[encoded data removed]",
      "text/plain": [
       "<Figure size 1000x800 with 1 Axes>"
      ]
     },
     "metadata": {},
     "output_type": "display_data"
    }
   ],
   "source": [
    "NewY = lr.coef_[0]*X + lr.intercept_ # Newy = (X * 기울기) + y절편  => 예측값\n",
    "\n",
    "fig = plt.figure(figsize=(10,8))\n",
    "ax = fig.add_subplot(1,1,1)\n",
    "ax.scatter(X, Y)\n",
    "ax.set_xlabel('Distance')\n",
    "ax.set_ylabel('Taxi price')\n",
    "\n",
    "plt.plot(X, NewY, color='red') # 실제값하고 예측값하고 비교하기 위해\n",
    "plt.title('y = {}*x + {}'.format(lr.coef_[0], lr.intercept_))\n",
    "plt.show()"
   ]
  },
  {
   "cell_type": "code",
   "execution_count": 35,
   "metadata": {},
   "outputs": [
    {
     "data": {
      "text/html": [
       "<table class=\"simpletable\">\n",
       "<caption>OLS Regression Results</caption>\n",
       "<tr>\n",
       "  <th>Dep. Variable:</th>          <td>y</td>       <th>  R-squared:         </th>  <td>   0.463</td>  \n",
       "</tr>\n",
       "<tr>\n",
       "  <th>Model:</th>                 <td>OLS</td>      <th>  Adj. R-squared:    </th>  <td>   0.463</td>  \n",
       "</tr>\n",
       "<tr>\n",
       "  <th>Method:</th>           <td>Least Squares</td> <th>  F-statistic:       </th>  <td>4.182e+04</td> \n",
       "</tr>\n",
       "<tr>\n",
       "  <th>Date:</th>             <td>수, 19 3 2025</td>  <th>  Prob (F-statistic):</th>   <td>  0.00</td>   \n",
       "</tr>\n",
       "<tr>\n",
       "  <th>Time:</th>               <td>09:19:08</td>    <th>  Log-Likelihood:    </th> <td>-1.6304e+05</td>\n",
       "</tr>\n",
       "<tr>\n",
       "  <th>No. Observations:</th>    <td> 48453</td>     <th>  AIC:               </th>  <td>3.261e+05</td> \n",
       "</tr>\n",
       "<tr>\n",
       "  <th>Df Residuals:</th>        <td> 48451</td>     <th>  BIC:               </th>  <td>3.261e+05</td> \n",
       "</tr>\n",
       "<tr>\n",
       "  <th>Df Model:</th>            <td>     1</td>     <th>                     </th>      <td> </td>     \n",
       "</tr>\n",
       "<tr>\n",
       "  <th>Covariance Type:</th>    <td>nonrobust</td>   <th>                     </th>      <td> </td>     \n",
       "</tr>\n",
       "</table>\n",
       "<table class=\"simpletable\">\n",
       "<tr>\n",
       "    <td></td>       <th>coef</th>     <th>std err</th>      <th>t</th>      <th>P>|t|</th>  <th>[0.025</th>    <th>0.975]</th>  \n",
       "</tr>\n",
       "<tr>\n",
       "  <th>const</th> <td>    6.5905</td> <td>    0.039</td> <td>  167.057</td> <td> 0.000</td> <td>    6.513</td> <td>    6.668</td>\n",
       "</tr>\n",
       "<tr>\n",
       "  <th>x1</th>    <td>    2.2394</td> <td>    0.011</td> <td>  204.508</td> <td> 0.000</td> <td>    2.218</td> <td>    2.261</td>\n",
       "</tr>\n",
       "</table>\n",
       "<table class=\"simpletable\">\n",
       "<tr>\n",
       "  <th>Omnibus:</th>       <td>71927.641</td> <th>  Durbin-Watson:     </th>   <td>   1.986</td>   \n",
       "</tr>\n",
       "<tr>\n",
       "  <th>Prob(Omnibus):</th>  <td> 0.000</td>   <th>  Jarque-Bera (JB):  </th> <td>693414401.814</td>\n",
       "</tr>\n",
       "<tr>\n",
       "  <th>Skew:</th>           <td>-7.937</td>   <th>  Prob(JB):          </th>   <td>    0.00</td>   \n",
       "</tr>\n",
       "<tr>\n",
       "  <th>Kurtosis:</th>       <td>588.844</td>  <th>  Cond. No.          </th>   <td>    4.60</td>   \n",
       "</tr>\n",
       "</table><br/><br/>Notes:<br/>[1] Standard Errors assume that the covariance matrix of the errors is correctly specified."
      ],
      "text/latex": [
       "\\begin{center}\n",
       "\\begin{tabular}{lclc}\n",
       "\\toprule\n",
       "\\textbf{Dep. Variable:}    &       y       & \\textbf{  R-squared:         } &       0.463    \\\\\n",
       "\\textbf{Model:}            &      OLS      & \\textbf{  Adj. R-squared:    } &       0.463    \\\\\n",
       "\\textbf{Method:}           & Least Squares & \\textbf{  F-statistic:       } &   4.182e+04    \\\\\n",
       "\\textbf{Date:}             &  수, 19 3 2025 & \\textbf{  Prob (F-statistic):} &       0.00     \\\\\n",
       "\\textbf{Time:}             &    09:19:08   & \\textbf{  Log-Likelihood:    } &  -1.6304e+05   \\\\\n",
       "\\textbf{No. Observations:} &      48453    & \\textbf{  AIC:               } &   3.261e+05    \\\\\n",
       "\\textbf{Df Residuals:}     &      48451    & \\textbf{  BIC:               } &   3.261e+05    \\\\\n",
       "\\textbf{Df Model:}         &          1    & \\textbf{                     } &                \\\\\n",
       "\\textbf{Covariance Type:}  &   nonrobust   & \\textbf{                     } &                \\\\\n",
       "\\bottomrule\n",
       "\\end{tabular}\n",
       "\\begin{tabular}{lcccccc}\n",
       "               & \\textbf{coef} & \\textbf{std err} & \\textbf{t} & \\textbf{P$> |$t$|$} & \\textbf{[0.025} & \\textbf{0.975]}  \\\\\n",
       "\\midrule\n",
       "\\textbf{const} &       6.5905  &        0.039     &   167.057  &         0.000        &        6.513    &        6.668     \\\\\n",
       "\\textbf{x1}    &       2.2394  &        0.011     &   204.508  &         0.000        &        2.218    &        2.261     \\\\\n",
       "\\bottomrule\n",
       "\\end{tabular}\n",
       "\\begin{tabular}{lclc}\n",
       "\\textbf{Omnibus:}       & 71927.641 & \\textbf{  Durbin-Watson:     } &       1.986    \\\\\n",
       "\\textbf{Prob(Omnibus):} &    0.000  & \\textbf{  Jarque-Bera (JB):  } & 693414401.814  \\\\\n",
       "\\textbf{Skew:}          &   -7.937  & \\textbf{  Prob(JB):          } &        0.00    \\\\\n",
       "\\textbf{Kurtosis:}      &  588.844  & \\textbf{  Cond. No.          } &        4.60    \\\\\n",
       "\\bottomrule\n",
       "\\end{tabular}\n",
       "%\\caption{OLS Regression Results}\n",
       "\\end{center}\n",
       "\n",
       "Notes: \\newline\n",
       " [1] Standard Errors assume that the covariance matrix of the errors is correctly specified."
      ],
      "text/plain": [
       "<class 'statsmodels.iolib.summary.Summary'>\n",
       "\"\"\"\n",
       "                            OLS Regression Results                            \n",
       "==============================================================================\n",
       "Dep. Variable:                      y   R-squared:                       0.463\n",
       "Model:                            OLS   Adj. R-squared:                  0.463\n",
       "Method:                 Least Squares   F-statistic:                 4.182e+04\n",
       "Date:                    수, 19 3 2025   Prob (F-statistic):               0.00\n",
       "Time:                        09:19:08   Log-Likelihood:            -1.6304e+05\n",
       "No. Observations:               48453   AIC:                         3.261e+05\n",
       "Df Residuals:                   48451   BIC:                         3.261e+05\n",
       "Df Model:                           1                                         \n",
       "Covariance Type:            nonrobust                                         \n",
       "==============================================================================\n",
       "                 coef    std err          t      P>|t|      [0.025      0.975]\n",
       "------------------------------------------------------------------------------\n",
       "const          6.5905      0.039    167.057      0.000       6.513       6.668\n",
       "x1             2.2394      0.011    204.508      0.000       2.218       2.261\n",
       "==============================================================================\n",
       "Omnibus:                    71927.641   Durbin-Watson:                   1.986\n",
       "Prob(Omnibus):                  0.000   Jarque-Bera (JB):        693414401.814\n",
       "Skew:                          -7.937   Prob(JB):                         0.00\n",
       "Kurtosis:                     588.844   Cond. No.                         4.60\n",
       "==============================================================================\n",
       "\n",
       "Notes:\n",
       "[1] Standard Errors assume that the covariance matrix of the errors is correctly specified.\n",
       "\"\"\""
      ]
     },
     "execution_count": 35,
     "metadata": {},
     "output_type": "execute_result"
    }
   ],
   "source": [
    "#pip install statsmodels\n",
    "import statsmodels.api as sm\n",
    "pd.set_option('display.notebook_repr_html', False)\n",
    "\n",
    "res = sm.OLS(Y, sm.add_constant(X)).fit()\n",
    "res.summary()"
   ]
  },
  {
   "cell_type": "code",
   "execution_count": null,
   "metadata": {},
   "outputs": [
    {
     "data": {
      "text/plain": [
       "17.7875404"
      ]
     },
     "execution_count": 37,
     "metadata": {},
     "output_type": "execute_result"
    }
   ],
   "source": [
    "# 예측값 구해보기(마일 x 기울기 + y절편)\n",
    "5 * 2.23941325 + 6.59047415"
   ]
  }
 ],
 "metadata": {
  "kernelspec": {
   "display_name": "base",
   "language": "python",
   "name": "python3"
  },
  "language_info": {
   "codemirror_mode": {
    "name": "ipython",
    "version": 3
   },
   "file_extension": ".py",
   "mimetype": "text/x-python",
   "name": "python",
   "nbconvert_exporter": "python",
   "pygments_lexer": "ipython3",
   "version": "3.11.9"
  }
 },
 "nbformat": 4,
 "nbformat_minor": 2
}
